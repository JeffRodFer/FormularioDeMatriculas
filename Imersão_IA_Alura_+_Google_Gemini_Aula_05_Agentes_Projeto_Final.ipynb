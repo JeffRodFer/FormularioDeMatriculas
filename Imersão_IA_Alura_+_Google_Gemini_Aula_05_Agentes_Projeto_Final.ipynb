{
  "nbformat": 4,
  "nbformat_minor": 0,
  "metadata": {
    "colab": {
      "provenance": [],
      "include_colab_link": true
    },
    "kernelspec": {
      "name": "python3",
      "display_name": "Python 3"
    },
    "language_info": {
      "name": "python"
    }
  },
  "cells": [
    {
      "cell_type": "markdown",
      "metadata": {
        "id": "view-in-github",
        "colab_type": "text"
      },
      "source": [
        "<a href=\"https://colab.research.google.com/github/JeffRodFer/FormularioDeMatriculas/blob/master/Imers%C3%A3o_IA_Alura_%2B_Google_Gemini_Aula_05_Agentes_Projeto_Final.ipynb\" target=\"_parent\"><img src=\"https://colab.research.google.com/assets/colab-badge.svg\" alt=\"Open In Colab\"/></a>"
      ]
    },
    {
      "cell_type": "code",
      "source": [
        "%pip -q install google-genai"
      ],
      "metadata": {
        "id": "UCCbECexLk_h"
      },
      "execution_count": 1,
      "outputs": []
    },
    {
      "cell_type": "code",
      "source": [
        "# Configura a API Key do Google Gemini\n",
        "\n",
        "import os\n",
        "from google.colab import userdata\n",
        "\n",
        "os.environ[\"GOOGLE_API_KEY\"] = userdata.get('GOOGLE_API_KEY')"
      ],
      "metadata": {
        "id": "NfCqHo1tLk8P"
      },
      "execution_count": 2,
      "outputs": []
    },
    {
      "cell_type": "code",
      "source": [
        "# Configura o cliente da SDK do Gemini\n",
        "\n",
        "from google import genai\n",
        "\n",
        "client = genai.Client()\n",
        "\n",
        "MODEL_ID = \"gemini-2.0-flash\""
      ],
      "metadata": {
        "id": "bV4w0H5TLk5g"
      },
      "execution_count": 3,
      "outputs": []
    },
    {
      "cell_type": "code",
      "source": [
        "# Pergunta ao Gemini uma informação mais recente que seu conhecimento\n",
        "\n",
        "from IPython.display import HTML, Markdown\n",
        "\n",
        "# Perguntar pro modelo quando é a próxima imersão de IA ###############################################\n",
        "resposta = client.models.generate_content(\n",
        "    model=MODEL_ID,\n",
        "    contents='Quando é a próxima Imersão IA com Google Gemini da Alura?',\n",
        ")\n",
        "\n",
        "\n",
        "# Exibe a resposta na tela\n",
        "display(Markdown(f\"Resposta:\\n {resposta.text}\"))"
      ],
      "metadata": {
        "id": "HwVP7Xi34Zuw",
        "colab": {
          "base_uri": "https://localhost:8080/",
          "height": 151
        },
        "outputId": "390e1d14-d431-4d15-d667-df63793e4949"
      },
      "execution_count": 4,
      "outputs": [
        {
          "output_type": "display_data",
          "data": {
            "text/plain": [
              "<IPython.core.display.Markdown object>"
            ],
            "text/markdown": "Resposta:\n A Alura ainda não divulgou a data da próxima Imersão IA com Google Gemini. A última edição ocorreu em fevereiro de 2024.\n\nA melhor forma de saber quando a próxima edição será realizada é:\n\n*   **Acompanhar as redes sociais da Alura:** Fique de olho nos perfis da Alura no [LinkedIn](https://www.linkedin.com/company/alura/), [Instagram](https://www.instagram.com/aluraonline/) e [Twitter](https://twitter.com/AluraOnline).\n*   **Inscrever-se na newsletter da Alura:** Assim, você receberá as novidades e lançamentos diretamente no seu e-mail.\n*   **Visitar regularmente o site da Alura:** Verifique a página de cursos e imersões para ver se há alguma novidade.\n\nAssim que a data for divulgada, ela estará disponível nesses canais."
          },
          "metadata": {}
        }
      ]
    },
    {
      "cell_type": "code",
      "source": [
        "# Pergunta ao Gemini uma informação utilizando a busca do Google como contexto\n",
        "\n",
        "resposta = client.models.generate_content(\n",
        "    model=MODEL_ID,\n",
        "    contents='Quando é a próxima Imersão IA com Google Gemini da Alura?',\n",
        "    # Inserir a tool de busca do Google ###############################################\n",
        "    config={'tools':[{'google_search': {}}]}\n",
        ")\n",
        "\n",
        "# Exibe a resposta na tela\n",
        "display(Markdown(f\"Resposta:\\n {resposta.text}\"))"
      ],
      "metadata": {
        "id": "yXaZd7iZ4ftw",
        "colab": {
          "base_uri": "https://localhost:8080/",
          "height": 81
        },
        "outputId": "dbb033c1-4365-429f-dd5b-310050bd87ec"
      },
      "execution_count": 5,
      "outputs": [
        {
          "output_type": "display_data",
          "data": {
            "text/plain": [
              "<IPython.core.display.Markdown object>"
            ],
            "text/markdown": "Resposta:\n Com base nas informações encontradas, a Alura e o Google se uniram para oferecer a Imersão IA com Google Gemini. As inscrições para a imersão mais recente foram até o dia 11 de maio de 2025. As aulas foram ministradas entre os dias 12 e 16 de maio de 2025. Para saber quando será a próxima edição da Imersão IA com Google Gemini, acompanhe o site da Alura.\n"
          },
          "metadata": {}
        }
      ]
    },
    {
      "cell_type": "code",
      "source": [
        "# Exibe a busca\n",
        "print(f\"Busca realizada: {resposta.candidates[0].grounding_metadata.web_search_queries}\")\n",
        "# Exibe as URLs nas quais ele se baseou\n",
        "print(f\"Páginas utilizadas na resposta: {', '.join([site.web.title for site in resposta.candidates[0].grounding_metadata.grounding_chunks])}\")\n",
        "print()\n",
        "display(HTML(resposta.candidates[0].grounding_metadata.search_entry_point.rendered_content))"
      ],
      "metadata": {
        "id": "xHSNlTd84heJ",
        "colab": {
          "base_uri": "https://localhost:8080/",
          "height": 117
        },
        "outputId": "7e506cad-3872-4ea4-c4de-f2406e0ec1f5"
      },
      "execution_count": 6,
      "outputs": [
        {
          "output_type": "stream",
          "name": "stdout",
          "text": [
            "Busca realizada: ['próxima Imersão IA com Google Gemini Alura', 'Alura Imersão IA Google Gemini']\n",
            "Páginas utilizadas na resposta: alura.com.br, youtube.com, educacao.mg.gov.br, starten.tech, youtube.com, alura.com.br, tecmundo.com.br\n",
            "\n"
          ]
        },
        {
          "output_type": "display_data",
          "data": {
            "text/plain": [
              "<IPython.core.display.HTML object>"
            ],
            "text/html": [
              "<style>\n",
              ".container {\n",
              "  align-items: center;\n",
              "  border-radius: 8px;\n",
              "  display: flex;\n",
              "  font-family: Google Sans, Roboto, sans-serif;\n",
              "  font-size: 14px;\n",
              "  line-height: 20px;\n",
              "  padding: 8px 12px;\n",
              "}\n",
              ".chip {\n",
              "  display: inline-block;\n",
              "  border: solid 1px;\n",
              "  border-radius: 16px;\n",
              "  min-width: 14px;\n",
              "  padding: 5px 16px;\n",
              "  text-align: center;\n",
              "  user-select: none;\n",
              "  margin: 0 8px;\n",
              "  -webkit-tap-highlight-color: transparent;\n",
              "}\n",
              ".carousel {\n",
              "  overflow: auto;\n",
              "  scrollbar-width: none;\n",
              "  white-space: nowrap;\n",
              "  margin-right: -12px;\n",
              "}\n",
              ".headline {\n",
              "  display: flex;\n",
              "  margin-right: 4px;\n",
              "}\n",
              ".gradient-container {\n",
              "  position: relative;\n",
              "}\n",
              ".gradient {\n",
              "  position: absolute;\n",
              "  transform: translate(3px, -9px);\n",
              "  height: 36px;\n",
              "  width: 9px;\n",
              "}\n",
              "@media (prefers-color-scheme: light) {\n",
              "  .container {\n",
              "    background-color: #fafafa;\n",
              "    box-shadow: 0 0 0 1px #0000000f;\n",
              "  }\n",
              "  .headline-label {\n",
              "    color: #1f1f1f;\n",
              "  }\n",
              "  .chip {\n",
              "    background-color: #ffffff;\n",
              "    border-color: #d2d2d2;\n",
              "    color: #5e5e5e;\n",
              "    text-decoration: none;\n",
              "  }\n",
              "  .chip:hover {\n",
              "    background-color: #f2f2f2;\n",
              "  }\n",
              "  .chip:focus {\n",
              "    background-color: #f2f2f2;\n",
              "  }\n",
              "  .chip:active {\n",
              "    background-color: #d8d8d8;\n",
              "    border-color: #b6b6b6;\n",
              "  }\n",
              "  .logo-dark {\n",
              "    display: none;\n",
              "  }\n",
              "  .gradient {\n",
              "    background: linear-gradient(90deg, #fafafa 15%, #fafafa00 100%);\n",
              "  }\n",
              "}\n",
              "@media (prefers-color-scheme: dark) {\n",
              "  .container {\n",
              "    background-color: #1f1f1f;\n",
              "    box-shadow: 0 0 0 1px #ffffff26;\n",
              "  }\n",
              "  .headline-label {\n",
              "    color: #fff;\n",
              "  }\n",
              "  .chip {\n",
              "    background-color: #2c2c2c;\n",
              "    border-color: #3c4043;\n",
              "    color: #fff;\n",
              "    text-decoration: none;\n",
              "  }\n",
              "  .chip:hover {\n",
              "    background-color: #353536;\n",
              "  }\n",
              "  .chip:focus {\n",
              "    background-color: #353536;\n",
              "  }\n",
              "  .chip:active {\n",
              "    background-color: #464849;\n",
              "    border-color: #53575b;\n",
              "  }\n",
              "  .logo-light {\n",
              "    display: none;\n",
              "  }\n",
              "  .gradient {\n",
              "    background: linear-gradient(90deg, #1f1f1f 15%, #1f1f1f00 100%);\n",
              "  }\n",
              "}\n",
              "</style>\n",
              "<div class=\"container\">\n",
              "  <div class=\"headline\">\n",
              "    <svg class=\"logo-light\" width=\"18\" height=\"18\" viewBox=\"9 9 35 35\" fill=\"none\" xmlns=\"http://www.w3.org/2000/svg\">\n",
              "      <path fill-rule=\"evenodd\" clip-rule=\"evenodd\" d=\"M42.8622 27.0064C42.8622 25.7839 42.7525 24.6084 42.5487 23.4799H26.3109V30.1568H35.5897C35.1821 32.3041 33.9596 34.1222 32.1258 35.3448V39.6864H37.7213C40.9814 36.677 42.8622 32.2571 42.8622 27.0064V27.0064Z\" fill=\"#4285F4\"/>\n",
              "      <path fill-rule=\"evenodd\" clip-rule=\"evenodd\" d=\"M26.3109 43.8555C30.9659 43.8555 34.8687 42.3195 37.7213 39.6863L32.1258 35.3447C30.5898 36.3792 28.6306 37.0061 26.3109 37.0061C21.8282 37.0061 18.0195 33.9811 16.6559 29.906H10.9194V34.3573C13.7563 39.9841 19.5712 43.8555 26.3109 43.8555V43.8555Z\" fill=\"#34A853\"/>\n",
              "      <path fill-rule=\"evenodd\" clip-rule=\"evenodd\" d=\"M16.6559 29.8904C16.3111 28.8559 16.1074 27.7588 16.1074 26.6146C16.1074 25.4704 16.3111 24.3733 16.6559 23.3388V18.8875H10.9194C9.74388 21.2072 9.06992 23.8247 9.06992 26.6146C9.06992 29.4045 9.74388 32.022 10.9194 34.3417L15.3864 30.8621L16.6559 29.8904V29.8904Z\" fill=\"#FBBC05\"/>\n",
              "      <path fill-rule=\"evenodd\" clip-rule=\"evenodd\" d=\"M26.3109 16.2386C28.85 16.2386 31.107 17.1164 32.9095 18.8091L37.8466 13.8719C34.853 11.082 30.9659 9.3736 26.3109 9.3736C19.5712 9.3736 13.7563 13.245 10.9194 18.8875L16.6559 23.3388C18.0195 19.2636 21.8282 16.2386 26.3109 16.2386V16.2386Z\" fill=\"#EA4335\"/>\n",
              "    </svg>\n",
              "    <svg class=\"logo-dark\" width=\"18\" height=\"18\" viewBox=\"0 0 48 48\" xmlns=\"http://www.w3.org/2000/svg\">\n",
              "      <circle cx=\"24\" cy=\"23\" fill=\"#FFF\" r=\"22\"/>\n",
              "      <path d=\"M33.76 34.26c2.75-2.56 4.49-6.37 4.49-11.26 0-.89-.08-1.84-.29-3H24.01v5.99h8.03c-.4 2.02-1.5 3.56-3.07 4.56v.75l3.91 2.97h.88z\" fill=\"#4285F4\"/>\n",
              "      <path d=\"M15.58 25.77A8.845 8.845 0 0 0 24 31.86c1.92 0 3.62-.46 4.97-1.31l4.79 3.71C31.14 36.7 27.65 38 24 38c-5.93 0-11.01-3.4-13.45-8.36l.17-1.01 4.06-2.85h.8z\" fill=\"#34A853\"/>\n",
              "      <path d=\"M15.59 20.21a8.864 8.864 0 0 0 0 5.58l-5.03 3.86c-.98-2-1.53-4.25-1.53-6.64 0-2.39.55-4.64 1.53-6.64l1-.22 3.81 2.98.22 1.08z\" fill=\"#FBBC05\"/>\n",
              "      <path d=\"M24 14.14c2.11 0 4.02.75 5.52 1.98l4.36-4.36C31.22 9.43 27.81 8 24 8c-5.93 0-11.01 3.4-13.45 8.36l5.03 3.85A8.86 8.86 0 0 1 24 14.14z\" fill=\"#EA4335\"/>\n",
              "    </svg>\n",
              "    <div class=\"gradient-container\"><div class=\"gradient\"></div></div>\n",
              "  </div>\n",
              "  <div class=\"carousel\">\n",
              "    <a class=\"chip\" href=\"https://vertexaisearch.cloud.google.com/grounding-api-redirect/AbF9wXHO4Q8ALl0ZN3vP-S3ynqdSwtyVV5Q5mdYAanICWQJGWA4qpY5cN08uGYLanJ8QciY4IgUll4KhILSB75pirZXxeZJIvpWsxjalBa-Lr98-vfZxFFuOr7KZ6P_EpsYK40isbl8gX38ddO5Ij7--CyYF5zlzM17onNA2iHSJtymCpUlsR2DDOLExHPak_LXNBA3hfxP3NI6eJdKnpA_MtVaP8nFtagRb\">Alura Imersão IA Google Gemini</a>\n",
              "    <a class=\"chip\" href=\"https://vertexaisearch.cloud.google.com/grounding-api-redirect/AbF9wXGWWn7sPrlpKAe5sMYrWdrMAXz6zW8UKySdo2is1X3GmVDY2HH2KtqjRfUGgnqOO_TzTQ2-_4lXyQ9I0mVMJEOL6ZH-lIVnbU4oljsEcPqHW3pJDqDltHi8JROEyvOJesPonJZWm9N2EM8ZPDwkyy49MR62vCqM5MIyoOjb5slxPOpgzWzvlE0ExT__sPiZq4l994VmLF_Uj6MmYw1_JGsIRrHZcw_7iKasMjdcRd4FWG3lHZg57peC\">próxima Imersão IA com Google Gemini Alura</a>\n",
              "  </div>\n",
              "</div>\n"
            ]
          },
          "metadata": {}
        }
      ]
    },
    {
      "cell_type": "code",
      "source": [
        "# Instalar Framework ADK de agentes do Google Obs: -q deixa oculto os detalhes da instalação ################################################\n",
        "!pip install -q google-adk\n"
      ],
      "metadata": {
        "id": "hvZ3UnPI4jhJ",
        "colab": {
          "base_uri": "https://localhost:8080/"
        },
        "outputId": "2dc24e9f-6e71-41ff-fc3c-b2977fc9b3f5"
      },
      "execution_count": 7,
      "outputs": [
        {
          "output_type": "stream",
          "name": "stdout",
          "text": [
            "\u001b[?25l   \u001b[90m━━━━━━━━━━━━━━━━━━━━━━━━━━━━━━━━━━━━━━━━\u001b[0m \u001b[32m0.0/1.2 MB\u001b[0m \u001b[31m?\u001b[0m eta \u001b[36m-:--:--\u001b[0m\r\u001b[2K   \u001b[91m━━━━━━━━━━━━━\u001b[0m\u001b[91m╸\u001b[0m\u001b[90m━━━━━━━━━━━━━━━━━━━━━━━━━━\u001b[0m \u001b[32m0.4/1.2 MB\u001b[0m \u001b[31m14.1 MB/s\u001b[0m eta \u001b[36m0:00:01\u001b[0m\r\u001b[2K   \u001b[90m━━━━━━━━━━━━━━━━━━━━━━━━━━━━━━━━━━━━━━━━\u001b[0m \u001b[32m1.2/1.2 MB\u001b[0m \u001b[31m17.0 MB/s\u001b[0m eta \u001b[36m0:00:00\u001b[0m\n",
            "\u001b[?25h\u001b[?25l   \u001b[90m━━━━━━━━━━━━━━━━━━━━━━━━━━━━━━━━━━━━━━━━\u001b[0m \u001b[32m0.0/232.1 kB\u001b[0m \u001b[31m?\u001b[0m eta \u001b[36m-:--:--\u001b[0m\r\u001b[2K   \u001b[90m━━━━━━━━━━━━━━━━━━━━━━━━━━━━━━━━━━━━━━━━\u001b[0m \u001b[32m232.1/232.1 kB\u001b[0m \u001b[31m12.8 MB/s\u001b[0m eta \u001b[36m0:00:00\u001b[0m\n",
            "\u001b[?25h\u001b[?25l   \u001b[90m━━━━━━━━━━━━━━━━━━━━━━━━━━━━━━━━━━━━━━━━\u001b[0m \u001b[32m0.0/95.2 kB\u001b[0m \u001b[31m?\u001b[0m eta \u001b[36m-:--:--\u001b[0m\r\u001b[2K   \u001b[90m━━━━━━━━━━━━━━━━━━━━━━━━━━━━━━━━━━━━━━━━\u001b[0m \u001b[32m95.2/95.2 kB\u001b[0m \u001b[31m5.9 MB/s\u001b[0m eta \u001b[36m0:00:00\u001b[0m\n",
            "\u001b[?25h\u001b[?25l   \u001b[90m━━━━━━━━━━━━━━━━━━━━━━━━━━━━━━━━━━━━━━━━\u001b[0m \u001b[32m0.0/217.1 kB\u001b[0m \u001b[31m?\u001b[0m eta \u001b[36m-:--:--\u001b[0m\r\u001b[2K   \u001b[90m━━━━━━━━━━━━━━━━━━━━━━━━━━━━━━━━━━━━━━━━\u001b[0m \u001b[32m217.1/217.1 kB\u001b[0m \u001b[31m14.1 MB/s\u001b[0m eta \u001b[36m0:00:00\u001b[0m\n",
            "\u001b[?25h\u001b[?25l   \u001b[90m━━━━━━━━━━━━━━━━━━━━━━━━━━━━━━━━━━━━━━━━\u001b[0m \u001b[32m0.0/334.1 kB\u001b[0m \u001b[31m?\u001b[0m eta \u001b[36m-:--:--\u001b[0m\r\u001b[2K   \u001b[90m━━━━━━━━━━━━━━━━━━━━━━━━━━━━━━━━━━━━━━━━\u001b[0m \u001b[32m334.1/334.1 kB\u001b[0m \u001b[31m20.7 MB/s\u001b[0m eta \u001b[36m0:00:00\u001b[0m\n",
            "\u001b[2K   \u001b[90m━━━━━━━━━━━━━━━━━━━━━━━━━━━━━━━━━━━━━━━━\u001b[0m \u001b[32m125.1/125.1 kB\u001b[0m \u001b[31m8.5 MB/s\u001b[0m eta \u001b[36m0:00:00\u001b[0m\n",
            "\u001b[2K   \u001b[90m━━━━━━━━━━━━━━━━━━━━━━━━━━━━━━━━━━━━━━━━\u001b[0m \u001b[32m65.8/65.8 kB\u001b[0m \u001b[31m5.0 MB/s\u001b[0m eta \u001b[36m0:00:00\u001b[0m\n",
            "\u001b[2K   \u001b[90m━━━━━━━━━━━━━━━━━━━━━━━━━━━━━━━━━━━━━━━━\u001b[0m \u001b[32m119.0/119.0 kB\u001b[0m \u001b[31m8.8 MB/s\u001b[0m eta \u001b[36m0:00:00\u001b[0m\n",
            "\u001b[2K   \u001b[90m━━━━━━━━━━━━━━━━━━━━━━━━━━━━━━━━━━━━━━━━\u001b[0m \u001b[32m194.9/194.9 kB\u001b[0m \u001b[31m12.5 MB/s\u001b[0m eta \u001b[36m0:00:00\u001b[0m\n",
            "\u001b[2K   \u001b[90m━━━━━━━━━━━━━━━━━━━━━━━━━━━━━━━━━━━━━━━━\u001b[0m \u001b[32m62.5/62.5 kB\u001b[0m \u001b[31m2.9 MB/s\u001b[0m eta \u001b[36m0:00:00\u001b[0m\n",
            "\u001b[2K   \u001b[90m━━━━━━━━━━━━━━━━━━━━━━━━━━━━━━━━━━━━━━━━\u001b[0m \u001b[32m103.3/103.3 kB\u001b[0m \u001b[31m7.3 MB/s\u001b[0m eta \u001b[36m0:00:00\u001b[0m\n",
            "\u001b[2K   \u001b[90m━━━━━━━━━━━━━━━━━━━━━━━━━━━━━━━━━━━━━━━━\u001b[0m \u001b[32m44.4/44.4 kB\u001b[0m \u001b[31m2.4 MB/s\u001b[0m eta \u001b[36m0:00:00\u001b[0m\n",
            "\u001b[2K   \u001b[90m━━━━━━━━━━━━━━━━━━━━━━━━━━━━━━━━━━━━━━━━\u001b[0m \u001b[32m72.0/72.0 kB\u001b[0m \u001b[31m4.3 MB/s\u001b[0m eta \u001b[36m0:00:00\u001b[0m\n",
            "\u001b[?25h"
          ]
        }
      ]
    },
    {
      "cell_type": "code",
      "execution_count": 8,
      "metadata": {
        "id": "aePV2bdfDeoW"
      },
      "outputs": [],
      "source": [
        "from google.adk.agents import Agent\n",
        "from google.adk.runners import Runner\n",
        "from google.adk.sessions import InMemorySessionService\n",
        "from google.adk.tools import google_search\n",
        "from google.genai import types  # Para criar conteúdos (Content e Part)\n",
        "from datetime import date\n",
        "import textwrap # Para formatar melhor a saída de texto\n",
        "from IPython.display import display, Markdown # Para exibir texto formatado no Colab\n",
        "import requests # Para fazer requisições HTTP\n",
        "import warnings\n",
        "\n",
        "warnings.filterwarnings(\"ignore\")"
      ]
    },
    {
      "cell_type": "code",
      "source": [
        "# Função auxiliar que envia uma mensagem para um agente via Runner e retorna a resposta final\n",
        "def call_agent(agent: Agent, message_text: str) -> str:\n",
        "    # Cria um serviço de sessão em memória\n",
        "    session_service = InMemorySessionService()\n",
        "    # Cria uma nova sessão (você pode personalizar os IDs conforme necessário)\n",
        "    session = session_service.create_session(app_name=agent.name, user_id=\"user1\", session_id=\"session1\")\n",
        "    # Cria um Runner para o agente\n",
        "    runner = Runner(agent=agent, app_name=agent.name, session_service=session_service)\n",
        "    # Cria o conteúdo da mensagem de entrada\n",
        "    content = types.Content(role=\"user\", parts=[types.Part(text=message_text)])\n",
        "\n",
        "    final_resposta = \"\"\n",
        "    # Itera assincronamente pelos eventos retornados durante a execução do agente\n",
        "    for event in runner.run(user_id=\"user1\", session_id=\"session1\", new_message=content):\n",
        "        if event.content:\n",
        "          for part in event.content.parts:\n",
        "            if part.text is not None:\n",
        "              final_resposta += part.text\n",
        "              final_resposta += \"\\n\"\n",
        "    return final_resposta"
      ],
      "metadata": {
        "id": "_xP4lWhsS5ko"
      },
      "execution_count": 9,
      "outputs": []
    },
    {
      "cell_type": "code",
      "source": [
        "# Função auxiliar para exibir texto formatado em Markdown no Colab\n",
        "def to_markdown(text):\n",
        "  text = text.replace('•', '  *')\n",
        "  return Markdown(textwrap.indent(text, '> ', predicate=lambda _: True))"
      ],
      "metadata": {
        "id": "8dosiodaxfFR"
      },
      "execution_count": 10,
      "outputs": []
    },
    {
      "cell_type": "code",
      "source": [
        "##########################################\n",
        "# --- Agente 1: Buscador de Notícias --- #\n",
        "##########################################\n",
        "def agente_buscador(topico, data_de_hoje):\n",
        "  buscador = Agent(\n",
        "      name='agente_buscador',\n",
        "      model='gemini-2.0-flash',\n",
        "      # Inserir as instruções do Agente buscador #########################\n",
        "      instruction=\"\"\"\n",
        "      Você é um agente de pesquisa. A sua tarefa é usar a ferramenta de pesquisa do google (google_search)\n",
        "      Para recuperar as últims notícias de lançamentos muito relevantes sobre o tópico abaixo.\n",
        "      Foque em no máximo 5 lançamentos relevantes, com base na quantidade e entusiasmo das notícias sobre ele.\n",
        "      Se um tema tiver poucas notícias ou reações entusiasmadas, é possível que ele não seja tão relevane assim e pode ser substituído por outro que tenha mais.\n",
        "      Esses lançamentos relevantes devem ser atuais, de no máximo um mês antes da data de hoje.\n",
        "      \"\"\",\n",
        "      description='Agente que busca informações no Google',\n",
        "      tools=[google_search]\n",
        "\n",
        "  )\n",
        "\n",
        "  entrada_do_agente_buscador = f'Tópico: {topico} \\n Data de hoje: {data_de_hoje}'\n",
        "\n",
        "  lancamentos = call_agent(buscador, entrada_do_agente_buscador)\n",
        "  return lancamentos\n"
      ],
      "metadata": {
        "id": "o8bqIfi_DyH8"
      },
      "execution_count": 11,
      "outputs": []
    },
    {
      "cell_type": "code",
      "source": [
        "################################################\n",
        "# --- Agente 2: Planejador de posts --- #\n",
        "################################################\n",
        "def agente_planejador(topico, lancamentos_buscados):\n",
        "    planejador = Agent(\n",
        "        name=\"agente_planejador\",\n",
        "        model=\"gemini-2.0-flash\",\n",
        "        # Inserir as instruções do Agente Planejador #################################################\n",
        "        instruction=\"\"\"\n",
        "        Você é um planejador de conteúdo, especialista em redes sociais. Com base na lista de lanÇamentos mais recentes do buscador, você deve:\n",
        "        usar a ferramenta de busca do Google (google_search) para criar um plano sobre quais são os posts mais relevantes que poderiamos abordar em um post sobre cada um deles.\n",
        "        Você também pode usar o (google_search) para encontrar mais informações sobre os temas e aprofundar.\n",
        "        Ao final você ira escolher o tema mais relevante entre eles com base  nas suas pesquisas e retornar esse tema,\n",
        "        seus pontos mais relevantes, e um plano com os assuntos a serem abordados no post que será escrito posteriormente.\n",
        "        \"\"\",\n",
        "        description=\"Agente que planeja posts\",\n",
        "        tools=[google_search]\n",
        "    )\n",
        "\n",
        "    entrada_do_agente_planejador = f\"Tópico:{topico}\\nLançamentos buscados: {lancamentos_buscados}\"\n",
        "    # Executa o agente\n",
        "    plano_do_post = call_agent(planejador, entrada_do_agente_planejador)\n",
        "    return plano_do_post"
      ],
      "metadata": {
        "id": "y3VO1uo5_ghO"
      },
      "execution_count": 12,
      "outputs": []
    },
    {
      "cell_type": "code",
      "source": [
        "######################################\n",
        "# --- Agente 3: Redator do Post --- #\n",
        "######################################\n",
        "def agente_redator(topico, plano_de_post):\n",
        "    redator = Agent(\n",
        "        name=\"agente_redator\",\n",
        "        model=\"gemini-2.0-flash\",\n",
        "        instruction=\"\"\"\n",
        "            Você é um Redator Criativo especializado em criar posts virais para redes sociais.\n",
        "            Você escreve posts para a empresa Alura, a maior escola online de tecnologia do Brasil.\n",
        "            Utilize o tema fornecido no plano de post e os pontos mais relevantes fornecidos e, com base nisso,\n",
        "            escreva um rascunho de post para Instagram sobre o tema indicado.\n",
        "            O post deve ser engajador, informativo, com linguagem simples e incluir 2 a 4 hashtags no final.\n",
        "            \"\"\",\n",
        "        description=\"Agente redator de posts engajadores para Instagram\"\n",
        "    )\n",
        "    entrada_do_agente_redator = f\"Tópico: {topico}\\nPlano de post: {plano_de_post}\"\n",
        "    # Executa o agente\n",
        "    rascunho = call_agent(redator, entrada_do_agente_redator)\n",
        "    return rascunho"
      ],
      "metadata": {
        "id": "uOqlg2TRLVh1"
      },
      "execution_count": 13,
      "outputs": []
    },
    {
      "cell_type": "code",
      "source": [
        "##########################################\n",
        "# --- Agente 4: Revisor de Qualidade --- #\n",
        "##########################################\n",
        "def agente_revisor(topico, rascunho):\n",
        "    revisor = Agent(\n",
        "        name=\"agente_revisor\",\n",
        "        model=\"gemini-2.0-flash\",\n",
        "        instruction=\"\"\"\n",
        "            Você é um Editor e Revisor de Conteúdo meticuloso, especializado em posts para redes sociais, com foco no Instagram.\n",
        "            Por ter um público jovem, entre 18 e 36 anos, use um tom de escrita adequado.\n",
        "            Revise o rascunho de post de Instagram abaixo sobre o tópico indicado, verificando clareza, concisão, correção e tom.\n",
        "            Se o rascunho estiver bom, responda apenas 'O rascunho está ótimo e pronto para publicar!'.\n",
        "            Caso haja problemas, aponte-os e sugira melhorias.\n",
        "            \"\"\",\n",
        "        description=\"Agente revisor de post para redes sociais.\"\n",
        "    )\n",
        "\n",
        "    entrada_do_agente_revisor = f\"Tópico: {topico}\\nRascunho: {rascunho}\"\n",
        "    # Executa o agente\n",
        "    texto_revisado = call_agent(revisor, entrada_do_agente_revisor)\n",
        "    return texto_revisado"
      ],
      "metadata": {
        "id": "_aTb1SdkLeT6"
      },
      "execution_count": 14,
      "outputs": []
    },
    {
      "cell_type": "code",
      "source": [
        "data_de_hoje = date.today().strftime(\"%d/%m/%Y\")\n",
        "\n",
        "print(\"🚀 Iniciando o Sistema de Criação de Posts para Instagram com 4 Agentes 🚀\")\n",
        "\n",
        "# --- Obter o Tópico do Usuário ---\n",
        "topico = input(\"❓ Por favor, digite o TÓPICO sobre o qual você quer criar o post de tendências: \")\n",
        "\n",
        "# Inserir lógica do sistema de agentes ################################################\n",
        "\n",
        "if not topico:\n",
        "  print('Você esqueceu de digitar o tópico!')\n",
        "else:\n",
        "  print('Maravilha! Vamos criar o post sobre novidades em {topico}')\n",
        "\n",
        "\n",
        "  lancamentos_buscados = agente_buscador(topico, data_de_hoje)\n",
        "  print('\\n -- Resultado do agente 1 (Buscador) -- \\n')\n",
        "  display(to_markdown(lancamentos_buscados))\n",
        "  print('--------------------------------------------------------------------------')\n",
        "\n",
        "  plano_de_post = agente_planejador(topico, lancamentos_buscados)\n",
        "  print('\\n -- Resultado do agente 2 (Planejador) -- \\n')\n",
        "  display(to_markdown(plano_de_post))\n",
        "  print('--------------------------------------------------------------------------')\n",
        "\n",
        "  rascunho = agente_redator(topico, plano_de_post)\n",
        "  print('\\n -- Resultado do agente 3 (Redator) -- \\n')\n",
        "  display(to_markdown(rascunho))\n",
        "  print('--------------------------------------------------------------------------')\n",
        "  post_final = agente_revisor(topico, rascunho)\n",
        "  print('\\n -- Resultado do agente 4 (Revisor) -- \\n')\n",
        "  display(to_markdown(post_final))\n",
        "  print('--------------------------------------------------------------------------')\n",
        "\n"
      ],
      "metadata": {
        "id": "630ummxz4myx",
        "colab": {
          "base_uri": "https://localhost:8080/",
          "height": 1000
        },
        "outputId": "89c8bbef-9f33-4892-9a9d-95babf5add76"
      },
      "execution_count": 15,
      "outputs": [
        {
          "output_type": "stream",
          "name": "stdout",
          "text": [
            "🚀 Iniciando o Sistema de Criação de Posts para Instagram com 4 Agentes 🚀\n",
            "❓ Por favor, digite o TÓPICO sobre o qual você quer criar o post de tendências: Agentes de IA\n",
            "Maravilha! Vamos criar o post sobre novidades em {topico}\n",
            "\n",
            " -- Resultado do agente 1 (Buscador) -- \n",
            "\n"
          ]
        },
        {
          "output_type": "display_data",
          "data": {
            "text/plain": [
              "<IPython.core.display.Markdown object>"
            ],
            "text/markdown": "> Tudo bem! Para te ajudar com isso, vou procurar por lançamentos recentes e relevantes na área de Agentes de IA. Meu foco será em identificar aqueles que geraram mais notícias e entusiasmo no último mês.\n> \n> \n> Com base nas notícias e informações disponíveis, aqui estão alguns dos lançamentos e desenvolvimentos mais relevantes na área de Agentes de IA no último mês (Abril-Maio de 2025):\n> \n> 1.  **IBM watsonx Orchestrate:** A IBM anunciou atualizações para o watsonx Orchestrate durante a conferência IBM THINK em 6 de maio de 2025. As novas ferramentas visam integrar, personalizar e implantar agentes de IA, com agentes pré-construídos para áreas como RH, vendas e compras. O Agent Catalog simplifica a integração com mais de 80 aplicações empresariais, incluindo Adobe, AWS, Microsoft, Oracle, Salesforce, SAP, ServiceNow e Workday.\n> 2.  **Microsoft Copilot:** Há expectativas de novas integrações de IA e melhorias no Copilot no Windows e no Azure durante o Microsoft Build 2025 (19 a 22 de maio). É possível o lançamento da família de modelos MAI, concorrentes dos atuais da OpenAI.\n> 3.  **Agentes de IA e Automação de Negócios:** A demanda por agentes de IA para automação de negócios está crescendo. Uma pesquisa de 2024 indicou que 82% das empresas planejam integrar agentes de IA nos próximos 1 a 3 anos. O mercado de agentes de IA deve crescer de US$ 5 bilhões em 2024 para mais de US$ 47 bilhões em 2030.\n> 4.  **Redefinição de Modelos de Trabalho:** Agentes de IA estão liberando equipes humanas de tarefas repetitivas, permitindo que se concentrem em atividades criativas e estratégicas. Isso está gerando uma nova era de trabalho digital, onde colaboradores e máquinas trabalham lado a lado.\n> 5.  **Integração em Aplicações:** Até 2028, espera-se que 33% dos aplicativos de software corporativo incluam Agentic AI, permitindo que 15% das decisões de trabalho do dia a dia sejam tomadas de forma autônoma. Agentes de IA podem ajudar a gerenciar cadeias de suprimentos, detectar bloqueios, recalcular rotas logísticas e ajustar processos. Na saúde, permitem interagir com pacientes, realizar planos de tratamento e reduzir o tempo de resposta.\n> \n> Espero que esta informação seja útil!\n> \n"
          },
          "metadata": {}
        },
        {
          "output_type": "stream",
          "name": "stdout",
          "text": [
            "--------------------------------------------------------------------------\n",
            "\n",
            " -- Resultado do agente 2 (Planejador) -- \n",
            "\n"
          ]
        },
        {
          "output_type": "display_data",
          "data": {
            "text/plain": [
              "<IPython.core.display.Markdown object>"
            ],
            "text/markdown": "> Com certeza! Com base nos lançamentos e desenvolvimentos recentes na área de Agentes de IA, vou criar um plano de conteúdo detalhado para cada um dos tópicos que você mencionou.\n> \n> **1. IBM watsonx Orchestrate:**\n> \n> *   **Pontos Relevantes:**\n>     *   Atualizações anunciadas na conferência IBM THINK (Maio de 2025).\n>     *   Foco na integração, personalização e implantação de agentes de IA.\n>     *   Agentes pré-construídos para RH, vendas e compras.\n>     *   Agent Catalog com integração simplificada com mais de 80 aplicações empresariais.\n> *   **Assuntos para o Post:**\n>     1.  **O que é o IBM watsonx Orchestrate?** Explicar de forma clara e concisa o que é a plataforma e qual o seu propósito.\n>     2.  **Novas funcionalidades e atualizações:** Detalhar as novidades apresentadas na conferência IBM THINK, com foco nos benefícios para os usuários.\n>     3.  **Agentes pré-construídos:** Explorar os agentes disponíveis para RH, vendas e compras, demonstrando como eles podem ser utilizados em diferentes cenários.\n>     4.  **Integração com aplicações empresariais:** Destacar a facilidade de integração com as principais aplicações do mercado, como Adobe, AWS, Microsoft, etc.\n>     5.  **Casos de uso:** Apresentar exemplos de como o watsonx Orchestrate está sendo utilizado por empresas para automatizar processos e melhorar a eficiência.\n>     6.  **Como começar:** Um guia prático para empresas que desejam implementar o watsonx Orchestrate, com informações sobre preços, suporte e recursos adicionais.\n> \n> **2. Microsoft Copilot:**\n> \n> *   **Pontos Relevantes:**\n>     *   Expectativas de novas integrações de IA e melhorias no Microsoft Build 2025 (Maio de 2025).\n>     *   Possível lançamento da família de modelos MAI, concorrentes da OpenAI.\n> *   **Assuntos para o Post:**\n>     1.  **O que é o Microsoft Copilot?** Explicar o que é o Copilot e como ele se integra com o Windows e o Azure.\n>     2.  **Expectativas para o Microsoft Build 2025:** Detalhar as possíveis novidades e melhorias que podem ser anunciadas durante o evento.\n>     3.  **Família de modelos MAI:** Explorar a possibilidade do lançamento de modelos MAI e como eles podem competir com a OpenAI.\n>     4.  **Integrações com aplicações Microsoft:** Demonstrar como o Copilot pode ser utilizado em conjunto com outras ferramentas da Microsoft, como Office, Teams, etc.\n>     5.  **Casos de uso:** Apresentar exemplos de como o Copilot está sendo utilizado por profissionais e empresas para aumentar a produtividade e a criatividade.\n>     6.  **O futuro do Copilot:** Discutir as perspectivas futuras do Copilot e como ele pode evoluir nos próximos anos.\n> \n> **3. Agentes de IA e Automação de Negócios:**\n> \n> *   **Pontos Relevantes:**\n>     *   Crescimento da demanda por agentes de IA para automação de negócios.\n>     *   Pesquisa de 2024 indicando que 82% das empresas planejam integrar agentes de IA nos próximos 1 a 3 anos.\n>     *   Mercado de agentes de IA deve crescer de US$ 5 bilhões em 2024 para mais de US$ 47 bilhões em 2030.\n> *   **Assuntos para o Post:**\n>     1.  **O que são agentes de IA para automação de negócios?** Definir o conceito e explicar como eles funcionam.\n>     2.  **Benefícios da automação com IA:** Destacar os principais benefícios da utilização de agentes de IA para automatizar processos de negócios, como redução de custos, aumento da eficiência, etc.\n>     3.  **Aplicações em diferentes setores:** Apresentar exemplos de como os agentes de IA estão sendo utilizados em diferentes setores, como finanças, saúde, varejo, etc.\n>     4.  **Tendências do mercado:** Discutir as principais tendências do mercado de agentes de IA para automação de negócios, com base em pesquisas e análises de mercado.\n>     5.  **Desafios e oportunidades:** Abordar os desafios e oportunidades da implementação de agentes de IA em empresas, como questões de segurança, privacidade e ética.\n>     6.  **Como começar:** Um guia prático para empresas que desejam implementar agentes de IA para automação de negócios, com informações sobre ferramentas, plataformas e serviços disponíveis.\n> \n> **4. Redefinição de Modelos de Trabalho:**\n> \n> *   **Pontos Relevantes:**\n>     *   Agentes de IA liberando equipes humanas de tarefas repetitivas.\n>     *   Foco em atividades criativas e estratégicas.\n>     *   Nova era de trabalho digital, onde colaboradores e máquinas trabalham lado a lado.\n> *   **Assuntos para o Post:**\n>     1.  **O impacto dos agentes de IA nos modelos de trabalho:** Explicar como os agentes de IA estão transformando a forma como as pessoas trabalham.\n>     2.  **Liberação de tarefas repetitivas:** Destacar como os agentes de IA estão permitindo que as equipes humanas se concentrem em atividades mais criativas e estratégicas.\n>     3.  **A nova era do trabalho digital:** Discutir como colaboradores e máquinas estão trabalhando lado a lado, criando um novo paradigma de trabalho.\n>     4.  **Habilidades do futuro:** Explorar as habilidades que serão mais importantes no futuro do trabalho, como criatividade, pensamento crítico e resolução de problemas.\n>     5.  **Casos de sucesso:** Apresentar exemplos de empresas que estão utilizando agentes de IA para transformar seus modelos de trabalho e obter resultados positivos.\n>     6.  **Preparando-se para o futuro:** Dar dicas para profissionais e empresas que desejam se preparar para o futuro do trabalho, com foco no desenvolvimento de habilidades e na adaptação aos novos modelos de trabalho.\n> \n> **5. Integração em Aplicações:**\n> \n> *   **Pontos Relevantes:**\n>     *   Até 2028, espera-se que 33% dos aplicativos de software corporativo incluam Agentic AI.\n>     *   15% das decisões de trabalho do dia a dia sendo tomadas de forma autônoma.\n>     *   Agentes de IA podem ajudar a gerenciar cadeias de suprimentos, detectar bloqueios, recalcular rotas logísticas e ajustar processos.\n>     *   Na saúde, permitem interagir com pacientes, realizar planos de tratamento e reduzir o tempo de resposta.\n> *   **Assuntos para o Post:**\n>     1.  **O que é Agentic AI?** Definir o conceito e explicar como ele se diferencia da IA tradicional.\n>     2.  **A integração de Agentic AI em aplicações corporativas:** Discutir como a Agentic AI está sendo integrada em aplicativos de software corporativo e quais os benefícios dessa integração.\n>     3.  **Exemplos de aplicações:** Apresentar exemplos de como a Agentic AI está sendo utilizada em diferentes áreas, como gerenciamento de cadeias de suprimentos, logística, saúde, etc.\n>     4.  **Tomada de decisões autônoma:** Explorar como os agentes de IA estão tomando decisões de forma autônoma e quais os impactos disso para as empresas.\n>     5.  **O futuro da Agentic AI:** Discutir as perspectivas futuras da Agentic AI e como ela pode transformar a forma como as empresas operam.\n>     6.  **Como começar:** Um guia prático para empresas que desejam implementar Agentic AI em seus aplicativos, com informações sobre ferramentas, plataformas e serviços disponíveis.\n> \n> **Tema Mais Relevante:**\n> \n> Com base nas suas pesquisas e no meu conhecimento, o tema mais relevante para abordar em um post é o **\"Agentes de IA e Automação de Negócios\"**. A crescente demanda por agentes de IA para automatizar tarefas e processos, juntamente com as projeções de crescimento do mercado, tornam este tema extremamente relevante e interessante para o público. Além disso, este tema oferece uma ampla gama de possibilidades de conteúdo, desde a definição do conceito até a apresentação de casos de uso e tendências do mercado.\n> \n> **Plano Detalhado para o Post \"Agentes de IA e Automação de Negócios\":**\n> \n> *   **Título:** Agentes de IA: A Revolução na Automação de Negócios\n> *   **Introdução:**\n>     *   Contextualizar o cenário atual da automação de negócios e a crescente importância da IA.\n>     *   Apresentar o conceito de agentes de IA e como eles se diferenciam de outras formas de automação.\n>     *   Destacar o potencial dos agentes de IA para transformar a forma como as empresas operam.\n> *   **O que são Agentes de IA para Automação de Negócios?**\n>     *   Definir o conceito de agentes de IA de forma clara e concisa.\n>     *   Explicar como eles funcionam e quais são os seus principais componentes.\n>     *   Diferenciar agentes de IA de outras formas de automação, como RPA e chatbots.\n> *   **Benefícios da Automação com IA:**\n>     *   Redução de custos: Apresentar dados e exemplos de como os agentes de IA podem ajudar a reduzir custos operacionais.\n>     *   Aumento da eficiência: Demonstrar como os agentes de IA podem automatizar tarefas repetitivas e otimizar processos, aumentando a eficiência.\n>     *   Melhora da qualidade: Explicar como os agentes de IA podem reduzir erros e melhorar a qualidade dos produtos e serviços.\n>     *   Escalabilidade: Destacar como os agentes de IA podem ser facilmente escalados para atender às demandas de crescimento da empresa.\n> *   **Aplicações em Diferentes Setores:**\n>     *   Finanças: Apresentar exemplos de como os agentes de IA estão sendo utilizados em bancos, seguradoras e outras instituições financeiras.\n>     *   Saúde: Demonstrar como os agentes de IA estão sendo utilizados em hospitais, clínicas e consultórios médicos.\n>     *   Varejo: Explicar como os agentes de IA estão sendo utilizados em lojas físicas e online para melhorar a experiência do cliente e aumentar as vendas.\n>     *   Manufatura: Apresentar exemplos de como os agentes de IA estão sendo utilizados em fábricas para otimizar a produção e reduzir custos.\n> *   **Tendências do Mercado:**\n>     *   Crescimento do mercado de agentes de IA: Apresentar dados e projeções sobre o crescimento do mercado de agentes de IA para automação de negócios.\n>     *   Adoção em diferentes setores: Discutir a crescente adoção de agentes de IA em diferentes setores da economia.\n>     *   Avanços tecnológicos: Explorar os avanços tecnológicos que estão impulsionando o desenvolvimento de agentes de IA mais inteligentes e eficientes.\n> *   **Desafios e Oportunidades:**\n>     *   Segurança e privacidade: Abordar as questões de segurança e privacidade relacionadas ao uso de agentes de IA.\n>     *   Ética: Discutir as questões éticas envolvidas na utilização de agentes de IA para tomar decisões.\n>     *   Regulamentação: Explorar as questões de regulamentação que estão sendo discutidas em relação ao uso de IA.\n>     *   Oportunidades de negócios: Destacar as oportunidades de negócios que estão surgindo no mercado de agentes de IA.\n> *   **Como Começar:**\n>     *   Ferramentas e plataformas: Apresentar algumas das principais ferramentas e plataformas disponíveis para o desenvolvimento e implementação de agentes de IA.\n>     *   Serviços de consultoria: Indicar empresas que oferecem serviços de consultoria para ajudar as empresas a implementar agentes de IA.\n>     *   Recursos adicionais: Sugerir livros, artigos e outros recursos para quem deseja se aprofundar no tema.\n> *   **Conclusão:**\n>     *   Reforçar a importância dos agentes de IA para a automação de negócios.\n>     *   Destacar o potencial dos agentes de IA para transformar a forma como as empresas operam.\n>     *   Incentivar os leitores a explorarem o tema e a considerarem a implementação de agentes de IA em suas empresas.\n> \n> Com este plano detalhado, você terá um guia completo para criar um post informativo e interessante sobre Agentes de IA e Automação de Negócios.\n> \n"
          },
          "metadata": {}
        },
        {
          "output_type": "stream",
          "name": "stdout",
          "text": [
            "--------------------------------------------------------------------------\n",
            "\n",
            " -- Resultado do agente 3 (Redator) -- \n",
            "\n"
          ]
        },
        {
          "output_type": "display_data",
          "data": {
            "text/plain": [
              "<IPython.core.display.Markdown object>"
            ],
            "text/markdown": "> 🤖 A revolução da automação chegou! 🚀 Já ouviu falar dos Agentes de IA? 🤔\n> \n> Eles estão transformando a forma como as empresas operam, automatizando tarefas, reduzindo custos e aumentando a eficiência! 📈\n> \n> Uma pesquisa recente mostrou que 82% das empresas planejam integrar Agentes de IA nos próximos anos. 🤯 E não é pra menos, o mercado deve saltar de U$5 bilhões para U$47 bilhões até 2030! 💰\n> \n> Mas, afinal, o que são Agentes de IA? 🤔\n> \n> 👉 São sistemas inteligentes que atuam de forma autônoma para otimizar processos, tomar decisões e muito mais! Imagine ter um \"robô\" virtual que cuida das tarefas repetitivas, liberando você para o que realmente importa! 😉\n> \n> Quer saber mais sobre como os Agentes de IA podem revolucionar o seu negócio? Fique ligado nos próximos posts! 🚀\n> \n> #InteligenciaArtificial #Automacao #AgentesDeIA #Alura\n"
          },
          "metadata": {}
        },
        {
          "output_type": "stream",
          "name": "stdout",
          "text": [
            "--------------------------------------------------------------------------\n",
            "\n",
            " -- Resultado do agente 4 (Revisor) -- \n",
            "\n"
          ]
        },
        {
          "output_type": "display_data",
          "data": {
            "text/plain": [
              "<IPython.core.display.Markdown object>"
            ],
            "text/markdown": "> O rascunho está ótimo, mas podemos fazer alguns ajustes para deixá-lo ainda mais atraente para o público do Instagram:\n> \n> *   **Emojis:** Adicione mais emojis para quebrar o texto e deixar a leitura mais leve e divertida.\n> *   **Chamada para ação (CTA) mais direta:** Incentive mais o engajamento. Que tal perguntar diretamente o que o público gostaria de saber sobre Agentes de IA?\n> *   **Hashtags:** Adicione hashtags mais específicas para aumentar o alcance.\n> \n> **Sugestão de Rascunho Revisado:**\n> \n> 🤖 A revolução da automação chegou com tudo! 🚀 Já ouviu falar dos Agentes de IA? 🤔\n> \n> Eles estão transformando a forma como as empresas operam, automatizando tarefas, reduzindo custos e turbinando a eficiência! 📈\n> \n> Uma pesquisa recente mostrou que 82% das empresas já estão de olho nos Agentes de IA para os próximos anos. 🤯 E não é pra menos, o mercado deve saltar de U$5 bilhões para U$47 bilhões até 2030! 💰\n> \n> Mas, afinal, o que são Agentes de IA? 🤔\n> \n> 👉 São sistemas super inteligentes que atuam de forma autônoma para otimizar processos, tomar decisões e muito mais! É como ter um \"robô\" virtual que cuida das tarefas repetitivas, liberando você para o que realmente importa! 😉\n> \n> E aí, quais dúvidas você tem sobre como os Agentes de IA podem revolucionar o seu negócio? Deixe nos comentários! 👇 E fique ligado para mais posts sobre o tema! 🚀\n> \n> #InteligenciaArtificial #Automacao #AgentesDeIA #IAparainiciantes #Inovacao #Alura\n> \n"
          },
          "metadata": {}
        },
        {
          "output_type": "stream",
          "name": "stdout",
          "text": [
            "--------------------------------------------------------------------------\n"
          ]
        }
      ]
    }
  ]
}